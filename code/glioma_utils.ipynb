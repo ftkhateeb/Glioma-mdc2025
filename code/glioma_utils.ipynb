{
 "cells": [
  {
   "cell_type": "code",
   "execution_count": null,
   "id": "4b4bfe65",
   "metadata": {},
   "outputs": [],
   "source": []
  },
  {
   "cell_type": "code",
   "execution_count": null,
   "id": "0f39bc39",
   "metadata": {},
   "outputs": [
    {
     "ename": "ModuleNotFoundError",
     "evalue": "No module named 'histomicstk'",
     "output_type": "error",
     "traceback": [
      "\u001b[0;31m---------------------------------------------------------------------------\u001b[0m",
      "\u001b[0;31mModuleNotFoundError\u001b[0m                       Traceback (most recent call last)",
      "Cell \u001b[0;32mIn[5], line 4\u001b[0m\n\u001b[1;32m      2\u001b[0m \u001b[38;5;28;01mimport\u001b[39;00m\u001b[38;5;250m \u001b[39m\u001b[38;5;21;01mcv2\u001b[39;00m\n\u001b[1;32m      3\u001b[0m \u001b[38;5;28;01mimport\u001b[39;00m\u001b[38;5;250m \u001b[39m\u001b[38;5;21;01mshutil\u001b[39;00m\n\u001b[0;32m----> 4\u001b[0m \u001b[38;5;28;01mimport\u001b[39;00m\u001b[38;5;250m \u001b[39m\u001b[38;5;21;01mhistomicstk\u001b[39;00m\n\u001b[1;32m      5\u001b[0m \u001b[38;5;28;01mimport\u001b[39;00m\u001b[38;5;250m \u001b[39m\u001b[38;5;21;01mstaintools\u001b[39;00m\n",
      "\u001b[0;31mModuleNotFoundError\u001b[0m: No module named 'histomicstk'"
     ]
    }
   ],
   "source": [
    "import os\n",
    "import cv2\n",
    "import shutil\n",
    "from histomicstk.preprocessing import color_normalization\n",
    "\n",
    "\n",
    "\n"
   ]
  },
  {
   "cell_type": "code",
   "execution_count": null,
   "id": "47350c1b",
   "metadata": {},
   "outputs": [],
   "source": [
    "def apply_mackenko_normalization(image_path: str, target_size=(224, 224)):\n",
    "    \"\"\"\n",
    "    Preprocesses the image by applying Mackenko stain normalization using the staintools package.\n",
    "\n",
    "    Parameters:\n",
    "    - image_path (str): Path to the input H&E stained image.\n",
    "    - target_size (tuple): The target size to resize the image (default: (224, 224)).\n",
    "\n",
    "    Returns:\n",
    "    - normalized_image (ndarray): The stain-normalized image.\n",
    "    \"\"\"\n",
    "    # Step 1: Load the image\n",
    "    image = io.imread(image_path)\n",
    "\n",
    "    # Step 2: Resize the image to the desired dimensions (224x224)\n",
    "    resized_image = resize(image, target_size, mode='reflect', anti_aliasing=True)\n",
    "\n",
    "    # Step 3: Initialize Mackenko stain normalization model\n",
    "    stain_norm = staintools.StainNormalizer(method='mackenko')\n",
    "\n",
    "    # Step 4: Apply the Mackenko stain normalization\n",
    "    normalized_image = stain_norm.transform(resized_image)\n",
    "\n",
    "    return normalized_image"
   ]
  },
  {
   "cell_type": "code",
   "execution_count": null,
   "id": "07b83aec",
   "metadata": {},
   "outputs": [],
   "source": [
    "\n",
    "def resize_image(img, width, height):\n",
    "  \"\"\"\n",
    "  Resizes an image (OpenCV format) to the specified width and height.\n",
    "\n",
    "  Args:\n",
    "    img: An OpenCV image (NumPy array).\n",
    "    width: The desired width of the resized image.\n",
    "    height: The desired height of the resized image.\n",
    "\n",
    "  Returns:\n",
    "    A new OpenCV image (NumPy array) representing the resized image.\n",
    "  \"\"\"\n",
    "  return cv2.resize(img, (width, height), interpolation=cv2.INTER_LANCZOS4)"
   ]
  },
  {
   "cell_type": "code",
   "execution_count": null,
   "id": "a1a8643b",
   "metadata": {},
   "outputs": [],
   "source": [
    "\n",
    "\n",
    "def preprocess_pipeline(input_path, output_path) :\n",
    "    if not os.path.exists(output_path):\n",
    "        os.makedirs(output_path)  \n",
    "\n",
    "    for root, _, files in os.walk(input_path):\n",
    "        for file in files:\n",
    "            if file.lower().endswith('.png'):\n",
    "                input_image_path = os.path.join(root, file)\n",
    "                output_image_path = os.path.join(output_path, os.path.splitext(file)[0] + '.png')\n",
    "\n",
    "                img = cv2.imread(input_image_path)\n",
    "                if img is None:\n",
    "                    print(f\"Could not read image: {input_image_path}\")\n",
    "                    continue\n",
    "\n",
    "\n",
    "                proprocessed_img = stain_normalizatioon(img)\n",
    "                proprocessed_img = resize_image(img, 1024, 1024)\n",
    "                preprocessed_img = crop_image(img, json_file_path)\n",
    "                proprocessed_img = resize_image(img, 224, 224)\n",
    "                preprocessed_img = normalize_image(img)\n",
    "                preprocessed_img = standaradize_image(img)\n",
    "\n",
    "\n",
    "\n"
   ]
  }
 ],
 "metadata": {
  "kernelspec": {
   "display_name": "Python 3",
   "language": "python",
   "name": "python3"
  },
  "language_info": {
   "codemirror_mode": {
    "name": "ipython",
    "version": 3
   },
   "file_extension": ".py",
   "mimetype": "text/x-python",
   "name": "python",
   "nbconvert_exporter": "python",
   "pygments_lexer": "ipython3",
   "version": "3.8.10"
  }
 },
 "nbformat": 4,
 "nbformat_minor": 5
}
