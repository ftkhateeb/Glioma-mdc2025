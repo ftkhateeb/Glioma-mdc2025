{
 "cells": [
  {
   "cell_type": "code",
   "execution_count": null,
   "id": "4b4bfe65",
   "metadata": {},
   "outputs": [],
   "source": []
  },
  {
   "cell_type": "code",
   "execution_count": 3,
   "id": "0f39bc39",
   "metadata": {},
   "outputs": [],
   "source": [
    "import os\n",
    "import cv2\n",
    "import shutil\n",
    "#from histomicstk.preprocessing import color_normalization\n",
    "import staintools\n",
    "\n",
    "\n"
   ]
  },
  {
   "cell_type": "code",
   "execution_count": null,
   "id": "93172eea",
   "metadata": {},
   "outputs": [],
   "source": [
    "def normalize_stain_vahadane(img: np.ndarray, target_img: np.ndarray) -> np.ndarray:\n",
    "    \"\"\"\n",
    "    Normalize the staining of an image using Vahadane method with a target image as reference.\n",
    "\n",
    "    Parameters:\n",
    "        img (np.ndarray): Source image (Hematoxylin & Eosin stained).\n",
    "        target_img (np.ndarray): Target/reference image for stain normalization.\n",
    "\n",
    "    Returns:\n",
    "        np.ndarray: Stain-normalized image.\n",
    "    \"\"\"\n",
    "    # Convert from BGR (OpenCV) to RGB\n",
    "    img_rgb = cv2.cvtColor(img, cv2.COLOR_BGR2RGB)\n",
    "    target_rgb = cv2.cvtColor(target_img, cv2.COLOR_BGR2RGB)\n",
    "\n",
    "    # Initialize the StainNormalizer for the Vahadane method\n",
    "    normalizer = staintools.StainNormalizer(method='vahadane')\n",
    "\n",
    "    # Fit the normalizer with the target image\n",
    "    normalizer.fit(target_rgb)\n",
    "\n",
    "    # Transform the source image to the normalized version\n",
    "    normalized_img = normalizer.transform(img_rgb)\n",
    "\n",
    "    return normalized_img"
   ]
  },
  {
   "cell_type": "code",
   "execution_count": null,
   "id": "47350c1b",
   "metadata": {},
   "outputs": [],
   "source": [
    "def apply_mackenko_normalization(image_path: str, target_size=(224, 224)):\n",
    "    \"\"\"\n",
    "    Preprocesses the image by applying Mackenko stain normalization using the staintools package.\n",
    "\n",
    "    Parameters:\n",
    "    - image_path (str): Path to the input H&E stained image.\n",
    "    - target_size (tuple): The target size to resize the image (default: (224, 224)).\n",
    "\n",
    "    Returns:\n",
    "    - normalized_image (ndarray): The stain-normalized image.\n",
    "    \"\"\"\n",
    "    # Step 1: Load the image\n",
    "    image = io.imread(image_path)\n",
    "\n",
    "    # Step 2: Resize the image to the desired dimensions (224x224)\n",
    "    resized_image = resize(image, target_size, mode='reflect', anti_aliasing=True)\n",
    "\n",
    "    # Step 3: Initialize Mackenko stain normalization model\n",
    "    stain_norm = staintools.StainNormalizer(method='mackenko')\n",
    "\n",
    "    # Step 4: Apply the Mackenko stain normalization\n",
    "    normalized_image = stain_norm.transform(resized_image)\n",
    "\n",
    "    return normalized_image"
   ]
  },
  {
   "cell_type": "code",
   "execution_count": null,
   "id": "07b83aec",
   "metadata": {},
   "outputs": [],
   "source": [
    "\n",
    "def resize_image(img, width, height):\n",
    "  \"\"\"\n",
    "  Resizes an image (OpenCV format) to the specified width and height.\n",
    "\n",
    "  Args:\n",
    "    img: An OpenCV image (NumPy array).\n",
    "    width: The desired width of the resized image.\n",
    "    height: The desired height of the resized image.\n",
    "\n",
    "  Returns:\n",
    "    A new OpenCV image (NumPy array) representing the resized image.\n",
    "  \"\"\"\n",
    "  return cv2.resize(img, (width, height), interpolation=cv2.INTER_LANCZOS4)"
   ]
  },
  {
   "cell_type": "code",
   "execution_count": null,
   "id": "a1a8643b",
   "metadata": {},
   "outputs": [],
   "source": [
    "\n",
    "\n",
    "def preprocess_pipeline(input_path, output_path) :\n",
    "    if not os.path.exists(output_path):\n",
    "        os.makedirs(output_path)  \n",
    "\n",
    "    for root, _, files in os.walk(input_path):\n",
    "        for file in files:\n",
    "            if file.lower().endswith('.png'):\n",
    "                input_image_path = os.path.join(root, file)\n",
    "                output_image_path = os.path.join(output_path, os.path.splitext(file)[0] + '.png')\n",
    "\n",
    "                img = cv2.imread(input_image_path)\n",
    "                if img is None:\n",
    "                    print(f\"Could not read image: {input_image_path}\")\n",
    "                    continue\n",
    "\n",
    "\n",
    "                proprocessed_img = stain_normalizatioon(img)\n",
    "                proprocessed_img = resize_image(img, 1024, 1024)\n",
    "                preprocessed_img = crop_image(img, json_file_path)\n",
    "                proprocessed_img = resize_image(img, 224, 224)\n",
    "                preprocessed_img = normalize_image(img)\n",
    "                preprocessed_img = standaradize_image(img)\n",
    "\n",
    "\n",
    "\n"
   ]
  }
 ],
 "metadata": {
  "kernelspec": {
   "display_name": "Python (glioma-prep)",
   "language": "python",
   "name": "glioma-prep"
  },
  "language_info": {
   "codemirror_mode": {
    "name": "ipython",
    "version": 3
   },
   "file_extension": ".py",
   "mimetype": "text/x-python",
   "name": "python",
   "nbconvert_exporter": "python",
   "pygments_lexer": "ipython3",
   "version": "3.8.20"
  }
 },
 "nbformat": 4,
 "nbformat_minor": 5
}
