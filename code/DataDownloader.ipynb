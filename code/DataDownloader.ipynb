{
 "cells": [
  {
   "cell_type": "code",
   "execution_count": null,
   "id": "14c212aa",
   "metadata": {},
   "outputs": [],
   "source": [
    "import os\n",
    "os.environ['KAGGLE_USERNAME'] = \"aboyaso\"\n",
    "os.environ['KAGGLE_Key']=\"ec6c088a9c3b75dbb121a6f75d236149\"\n",
    "!kaggle competitions download -c glioma-mcd-2025\n"
   ]
  },
  {
   "cell_type": "code",
   "execution_count": null,
   "id": "20e42cc3",
   "metadata": {},
   "outputs": [],
   "source": [
    "from zipfile import ZipFile\n",
    "\n",
    "file_name=\"glioma-mcd-2025.zip\"\n",
    "\n",
    "with ZipFile(file_name, 'r') as zip:\n",
    "  zip.extractall()\n",
    "  print('woow')"
   ]
  }
 ],
 "metadata": {
  "language_info": {
   "name": "python"
  }
 },
 "nbformat": 4,
 "nbformat_minor": 5
}
