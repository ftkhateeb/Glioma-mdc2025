{
  "cells": [
    {
      "cell_type": "markdown",
      "metadata": {},
      "source": [
        "script to download the data, annotate the training and testing data and save them to another folder to view them"
      ]
    },
    {
      "cell_type": "code",
      "execution_count": null,
      "metadata": {
        "id": "8zZoIYSYkZow"
      },
      "outputs": [],
      "source": [
        "import numpy as np\n",
        "import pandas as pd\n",
        "import matplotlib.pyplot as plt\n",
        "import os\n",
        "import json\n",
        "import cv2\n",
        "import numpy as np\n",
        "from PIL import Image\n",
        "import config\n",
        "import glioma_utils\n"
      ]
    },
    {
      "cell_type": "code",
      "execution_count": null,
      "metadata": {},
      "outputs": [],
      "source": [
        "def annotate_and_save_images(input_dir_path, output_dir_path, color_map):\n",
        "    ''' \n",
        "    Aelkhate : This function loops in all the images and annotates it using the information in the json\n",
        "    \n",
        "    '''\n",
        "    if not os.path.exists(output_dir_path):\n",
        "        os.makedirs(output_dir_path)\n",
        "    for root, _, files in os.walk(input_dir_path):\n",
        "        for file in files:\n",
        "            if file.lower().endswith((\".png\", \".jpg\")):\n",
        "                base_name = os.path.splitext(file)[0]\n",
        "                img_path = os.path.join(root, file)\n",
        "                json_path = os.path.join(root, base_name + \".json\")\n",
        "                \n",
        "                # Read image using OpenCV\n",
        "                img = cv2.imread(img_path)\n",
        "                if img is None:\n",
        "                    print(f\"Error reading {img_path}. Skipping.\")\n",
        "                    continue\n",
        "\n",
        "                # Create a copy for drawing (we will draw directly on this image)\n",
        "                annotated_img = img.copy()\n",
        "\n",
        "                # Load the JSON annotation file\n",
        "                with open(json_path, 'r') as json_file:\n",
        "                    annotations = json.load(json_file)\n",
        "                    for shape in annotations['shapes']:\n",
        "                        label = shape['label']\n",
        "                        points = shape['points']\n",
        "                        color = color_map.get(label, (0, 0, 255))  # Default color: red\n",
        "                        \n",
        "                        # Convert points to integer\n",
        "                        points = np.array(points, dtype=np.int32)\n",
        "                        \n",
        "                        # Draw polygon based on points\n",
        "                        cv2.polylines(annotated_img, [points], isClosed=True, color=color, thickness=2)\n",
        "                        print(f\"Drawn {label} at coordinates: {points[:2]}... ({len(points)} points)\")\n",
        "\n",
        "                # Save the annotated image as PNG\n",
        "                output_img_path = os.path.join(output_dir_path, base_name + \".png\")\n",
        "                cv2.imwrite(output_img_path, annotated_img)\n",
        "\n",
        "                print(f\"Saved annotated image at {output_img_path}\")\n",
        "\n"
      ]
    },
    {
      "cell_type": "code",
      "execution_count": null,
      "metadata": {},
      "outputs": [],
      "source": [
        "input_dir_path_training  = config.original_data_fixed_train_path\n",
        "output_dir_path_training = config.annotated_data_fixed_train_path\n",
        "\n",
        "input_dir_path_testing =config.original_data_fixed_test_path\n",
        "output_dir_path_testing = config.annotated_data_fixed_test_path\n",
        "color_map = {\n",
        "    \"Mitosis\":  (0, 0, 255),  # Red for Mitosis\n",
        "    \"Non-mitosis\" : (0, 255, 0)   # Green for Non-mitosis\n",
        "}\n",
        "# Annotate training data\n",
        "annotate_and_save_images(\"/home/aelkhate/anaconda3/envs/glioma-prep/Glioma-mdc2025/data/preprocessed_data_3/train\", \"/home/aelkhate/anaconda3/envs/glioma-prep/Glioma-mdc2025/data/preprocessed_data/train\", color_map)\n",
        "# Annotate test data\n",
        "annotate_and_save_images(\"/home/aelkhate/anaconda3/envs/glioma-prep/Glioma-mdc2025/data/preprocessed_data_3/test\",\"/home/aelkhate/anaconda3/envs/glioma-prep/Glioma-mdc2025/data/preprocessed_data/test\", color_map)\n",
        "\n"
      ]
    },
    {
      "cell_type": "code",
      "execution_count": null,
      "metadata": {},
      "outputs": [],
      "source": [
        "# Copy the json files to the annotated_data folder, because only the images were copied in the previous step\n",
        "glioma_utils.copy_json_files(config.annotated_data_fixed_train_path, \"/home/aelkhate/anaconda3/envs/glioma-prep/Glioma-mdc2025/data/preprocessed_data_1/train\")\n",
        "glioma_utils.copy_json_files(config.annotated_data_fixed_test_path,\"/home/aelkhate/anaconda3/envs/glioma-prep/Glioma-mdc2025/data/preprocessed_data_1/test\")\n"
      ]
    }
  ],
  "metadata": {
    "colab": {
      "provenance": []
    },
    "kernelspec": {
      "display_name": "Python (glioma-prep)",
      "language": "python",
      "name": "glioma-prep"
    },
    "language_info": {
      "codemirror_mode": {
        "name": "ipython",
        "version": 3
      },
      "file_extension": ".py",
      "mimetype": "text/x-python",
      "name": "python",
      "nbconvert_exporter": "python",
      "pygments_lexer": "ipython3",
      "version": "3.8.20"
    }
  },
  "nbformat": 4,
  "nbformat_minor": 0
}
